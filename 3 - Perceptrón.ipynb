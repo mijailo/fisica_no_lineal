{
 "cells": [
  {
   "cell_type": "markdown",
   "id": "40379d39-809b-47d2-9d3c-2edef5d3f983",
   "metadata": {},
   "source": [
    "# Introducción a los algoritmos de redes neuronales\n",
    "\n",
    "## Especificación de una red neuronal\n",
    "\n",
    "1. **Arquitectura**: definición de la red neuronal y de su topología, dada normalmente por un [grafo dirigido](https://en.wikipedia.org/wiki/Directed_graph) con pesos. A cada neurona (nodo) se le asigna una o más variables (la _actividad_), y las conexiones/interacciones neuronales se modelan por las aristas pesadas del grafo.\n",
    "2. **Regla de actividad**: definición de la forma en que cambian las actividades neuronales en el tiempo, tomando en cuenta sus interacciones (es decir: una dinámica).\n",
    "3. **Regla de aprendizaje**: definición de la forma en que las interacciones neuronales cambian en el tiempo, tomando en cuenta la actividad neuronal.\n",
    "\n",
    "> **Nota**: normalmente la escala temporal de la regla de actividad es menor que la de la regla de aprendizaje.\n",
    "\n",
    "## Red de McCulloc-Pitts\n",
    "\n",
    "Una red neuronal de McCulloch-Pitts se modela como:\n",
    "\n",
    "1. Un vector $\\mathbf{S}\\subseteq\\{-1,1\\}^N$ (con $N\\in\\mathbb{N}$, $N\\geq 1$ fijo) de _actividad neuronal_.\n",
    "> $S_j=\\pm 1$ indica que la $i-$ésima neurona está activa o pasiva.\n",
    "2. Una matriz $\\mathbf{J}=(J_{ij})\\in\\mathbb{R}^{N\\times N}$ de _acoplamientos sinápticos_ (también llamada _matriz sináptica_).\n",
    "3. La dinámica:\n",
    "$$S_i(t+1)=\\mathrm{sign}\\left(\\sum_{j}J_{ij}S_j(t)-\\theta_i\\right)$$ \n",
    "donde $\\theta_i$ es un _umbral de activación_ específico de cada neurona $i$. En este caso, $t\\in\\mathbb{N}$ con $\\mathbf{S}(0)$ fijado de antemano.\n",
    "> La idea es que una neurona _suma_ la actividad entrante de todas las demás neuronas, ponderada por las fuerzas de acoplamiento sináptico correspondientes, para obtener el potencial postsináptico. Éste luego se compara con un umbral específico de cada neurona: si el potencial postsináptico supera el umbral, la neurona estará activa en el siguiente paso temporal; en caso contrario, será pasiva.\n",
    "4. La función:\n",
    "$$\\mathcal{H}\\left(\\mathbf{S}\\right)=-\\sum_{i,j} J_{ij} S_i S_j$$\n",
    "> Cuando $\\mathbf{J}$ es simétrica, la función $\\mathcal{H}$ está acotada inferiormente."
   ]
  },
  {
   "cell_type": "code",
   "execution_count": 1,
   "id": "3ca4c82d-a379-4d1c-81f6-cde6e31fc3ef",
   "metadata": {
    "tags": []
   },
   "outputs": [],
   "source": [
    "import numpy as np\n",
    "import matplotlib.pyplot as plt\n",
    "import networkx as nx"
   ]
  },
  {
   "cell_type": "code",
   "execution_count": 2,
   "id": "4d742e54-2441-4a4d-a69f-9133959c8e7b",
   "metadata": {
    "tags": []
   },
   "outputs": [],
   "source": [
    "class Perceptron:\n",
    "    def __init__(self, S, J, threshold):\n",
    "        assert len(S)==len(J)==len(threshold) and J.shape==(N,N)\n",
    "        self.nodes = S\n",
    "        self.size = len(S)\n",
    "        self.couplings = J\n",
    "        self.threshold = threshold\n",
    "        self.energy = [-self.nodes.dot(self.couplings.dot(self.nodes))]\n",
    "\n",
    "    def evolve(self,t):\n",
    "        assert t>=0 and type(t)==int\n",
    "        t_f=0\n",
    "        while t_f < t:\n",
    "            self.nodes=np.sign(\n",
    "                self.couplings.dot(self.nodes)-self.threshold\n",
    "            )\n",
    "            self.energy.append(\n",
    "                -self.nodes.dot(self.couplings.dot(self.nodes))\n",
    "            )\n",
    "            t_f+=1"
   ]
  },
  {
   "cell_type": "markdown",
   "id": "e91dceff-db1a-49a1-bb62-2ab82f0245b5",
   "metadata": {},
   "source": [
    "Definimos interacciones simétricas y un umbral nulo:"
   ]
  },
  {
   "cell_type": "code",
   "execution_count": 3,
   "id": "103fd3fe-f62c-40b6-9dfa-1f650292ea2d",
   "metadata": {
    "tags": []
   },
   "outputs": [],
   "source": [
    "N=5\n",
    "J0=np.random.normal(size=(N,N))\n",
    "J0=(J0+J0.T)/2\n",
    "S0=np.random.choice(\n",
    "    [-1.,1.],\n",
    "    size=N\n",
    ")\n",
    "threshold=np.zeros(N) #Puede ser: threshold=np.random.normal(size=N)\n",
    "\n",
    "x = Perceptron(S0,J0,threshold)"
   ]
  },
  {
   "cell_type": "code",
   "execution_count": 4,
   "id": "7847b9ee-44d0-414f-959c-4c5e2df4106e",
   "metadata": {
    "tags": []
   },
   "outputs": [
    {
     "data": {
      "text/plain": [
       "array([ 1., -1.,  1., -1., -1.])"
      ]
     },
     "execution_count": 4,
     "metadata": {},
     "output_type": "execute_result"
    }
   ],
   "source": [
    "x.nodes"
   ]
  },
  {
   "cell_type": "code",
   "execution_count": 5,
   "id": "ec0e685d-4b93-47e0-8d18-f7939a697ec9",
   "metadata": {
    "tags": []
   },
   "outputs": [
    {
     "data": {
      "text/plain": [
       "array([[-1.71352739, -0.45092839,  0.61647057,  0.85211195,  0.13459637],\n",
       "       [-0.45092839,  2.18682303,  0.25338439,  1.2134878 ,  0.81108375],\n",
       "       [ 0.61647057,  0.25338439, -0.22788945, -0.64714423,  0.32540277],\n",
       "       [ 0.85211195,  1.2134878 , -0.64714423,  0.41592543, -0.45996757],\n",
       "       [ 0.13459637,  0.81108375,  0.32540277, -0.45996757,  0.62168559]])"
      ]
     },
     "execution_count": 5,
     "metadata": {},
     "output_type": "execute_result"
    }
   ],
   "source": [
    "x.couplings"
   ]
  },
  {
   "cell_type": "code",
   "execution_count": 6,
   "id": "6b09db31-786d-41bd-92ea-3a9c128b24f6",
   "metadata": {
    "tags": []
   },
   "outputs": [
    {
     "data": {
      "text/plain": [
       "array([-1., -1.,  1., -1., -1.])"
      ]
     },
     "execution_count": 6,
     "metadata": {},
     "output_type": "execute_result"
    }
   ],
   "source": [
    "x.evolve(1)\n",
    "x.nodes"
   ]
  },
  {
   "cell_type": "code",
   "execution_count": 7,
   "id": "6fb73aad-66b0-42f3-8222-f333a9bedd07",
   "metadata": {
    "tags": []
   },
   "outputs": [
    {
     "data": {
      "text/plain": [
       "[-4.71032060620398, -4.3875580282033955]"
      ]
     },
     "execution_count": 7,
     "metadata": {},
     "output_type": "execute_result"
    }
   ],
   "source": [
    "x.energy"
   ]
  },
  {
   "cell_type": "code",
   "execution_count": 8,
   "id": "a85db533-235b-4df9-adf5-eccc6e0417db",
   "metadata": {
    "tags": []
   },
   "outputs": [],
   "source": [
    "x.evolve(20)"
   ]
  },
  {
   "cell_type": "code",
   "execution_count": 9,
   "id": "04c7c838-e35f-4aa0-bf4f-f00e1ed10ab7",
   "metadata": {
    "tags": []
   },
   "outputs": [
    {
     "data": {
      "text/plain": [
       "[-4.71032060620398,\n",
       " -4.3875580282033955,\n",
       " -1.9710100469305947,\n",
       " 4.62354761799878,\n",
       " -1.9710100469305947,\n",
       " 4.62354761799878,\n",
       " -1.9710100469305947,\n",
       " 4.62354761799878,\n",
       " -1.9710100469305947,\n",
       " 4.62354761799878,\n",
       " -1.9710100469305947,\n",
       " 4.62354761799878,\n",
       " -1.9710100469305947,\n",
       " 4.62354761799878,\n",
       " -1.9710100469305947,\n",
       " 4.62354761799878,\n",
       " -1.9710100469305947,\n",
       " 4.62354761799878,\n",
       " -1.9710100469305947,\n",
       " 4.62354761799878,\n",
       " -1.9710100469305947,\n",
       " 4.62354761799878]"
      ]
     },
     "execution_count": 9,
     "metadata": {},
     "output_type": "execute_result"
    }
   ],
   "source": [
    "x.energy"
   ]
  },
  {
   "cell_type": "code",
   "execution_count": 10,
   "id": "4538c642-ba61-4dcc-912d-904377a19f9d",
   "metadata": {
    "tags": []
   },
   "outputs": [
    {
     "data": {
      "text/plain": [
       "Text(0.5, 0, '$j$')"
      ]
     },
     "execution_count": 10,
     "metadata": {},
     "output_type": "execute_result"
    },
    {
     "data": {
      "application/vnd.jupyter.widget-view+json": {
       "model_id": "14eca77ea2bb490ab1e7466fe217887f",
       "version_major": 2,
       "version_minor": 0
      },
      "image/png": "[encoded data removed]",
      "text/html": [
       "\n",
       "            <div style=\"display: inline-block;\">\n",
       "                <div class=\"jupyter-widgets widget-label\" style=\"text-align: center;\">\n",
       "                    Figure\n",
       "                </div>\n",
       "                <img src='data:image/png;base64,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' width=1300.0/>\n",
       "            </div>\n",
       "        "
      ],
      "text/plain": [
       "Canvas(toolbar=Toolbar(toolitems=[('Home', 'Reset original view', 'home', 'home'), ('Back', 'Back to previous …"
      ]
     },
     "metadata": {},
     "output_type": "display_data"
    }
   ],
   "source": [
    "%matplotlib widget\n",
    "fig,ax=plt.subplots(\n",
    "    1,3,\n",
    "    figsize=(13,5),\n",
    "    width_ratios=[4,1,5]\n",
    ")\n",
    "ax[0].plot(x.energy)\n",
    "ax[0].set_title('Evolución de $\\mathcal{H}(t)$')\n",
    "ax[0].set_ylabel('$\\mathcal{H}(t)$',fontsize=12)\n",
    "ax[0].set_xlabel('$t$',fontsize=12)\n",
    "ax[0].grid()\n",
    "\n",
    "ax[1].barh(range(x.size),x.threshold)\n",
    "ax[1].set_title('Medidas de los umbrales $\\\\theta_{i}$')\n",
    "ax[1].set_ylabel('$i$',fontsize=12)\n",
    "ax[1].set_xlabel('$\\\\theta_i$',fontsize=12)\n",
    "ax[1].grid()\n",
    "\n",
    "im=ax[2].imshow(x.couplings,cmap='bwr')\n",
    "plt.colorbar(\n",
    "    im,ax=ax[2],\n",
    "    shrink=0.72,\n",
    "    aspect=50,\n",
    "    label='$J_{ij}$'\n",
    ")\n",
    "ax[2].set_title('Medidas de los acoplamientos $J_{ij}$')\n",
    "ax[2].set_ylabel('$i$',fontsize=12)\n",
    "ax[2].set_xlabel('$j$',fontsize=12)"
   ]
  },
  {
   "cell_type": "markdown",
   "id": "76a21b3f-83bc-4372-8f3c-cb3e25d1222f",
   "metadata": {},
   "source": [
    "Ahora compararemos el estado inicial con el (los) final(es):"
   ]
  },
  {
   "cell_type": "code",
   "execution_count": 11,
   "id": "0e171045-4f3c-4c9b-b9e7-ed0cb0734c01",
   "metadata": {
    "tags": []
   },
   "outputs": [],
   "source": [
    "def normalizeEdgeColor(J):\n",
    "    return (J-J.min())/(J.max()-J.min()+1e-6)"
   ]
  },
  {
   "cell_type": "code",
   "execution_count": 12,
   "id": "72019c7a-9766-4cde-8921-62a42122c0f5",
   "metadata": {
    "tags": []
   },
   "outputs": [],
   "source": [
    "J0norm=normalizeEdgeColor(J0)\n",
    "\n",
    "G0 = nx.Graph(\n",
    "    {i: {j: {\"weight\": J0norm[i,j]} for j in range(N)} for i in range(N)}\n",
    ")\n",
    "nx.set_node_attributes(G0, {i:{'activity':S0[i]} for i in range(N)})"
   ]
  },
  {
   "cell_type": "code",
   "execution_count": 13,
   "id": "3d983c87-8a4c-480c-a1db-b0119c5b9f3e",
   "metadata": {
    "tags": []
   },
   "outputs": [
    {
     "data": {
      "text/plain": [
       "EdgeDataView([(0, 0, 0.0), (0, 1, 0.32371416296611893), (0, 2, 0.5973815453992952), (0, 3, 0.6577969673055386), (0, 4, 0.47383519026229276), (1, 1, 0.9999997436128457), (1, 2, 0.5042909131339594), (1, 3, 0.7504490942628665), (1, 4, 0.6472778639580031), (2, 2, 0.3808984833039589), (2, 3, 0.273406943107762), (2, 4, 0.5227554993123884), (3, 3, 0.5459643460530377), (3, 4, 0.3213966346069243), (4, 4, 0.5987186082963636)])"
      ]
     },
     "execution_count": 13,
     "metadata": {},
     "output_type": "execute_result"
    }
   ],
   "source": [
    "G0.edges.data('weight')"
   ]
  },
  {
   "cell_type": "code",
   "execution_count": 14,
   "id": "fd1aed21-212a-471e-91b4-e92abd0791bb",
   "metadata": {},
   "outputs": [],
   "source": [
    "Jnorm=normalizeEdgeColor(x.couplings)\n",
    "\n",
    "G = nx.Graph(\n",
    "    {i: {j: {\"weight\": Jnorm[i,j]} for j in range(N)} for i in range(N)}\n",
    ")\n",
    "nx.set_node_attributes(G, {i:{'activity':x.nodes[i]} for i in range(N)})"
   ]
  },
  {
   "cell_type": "code",
   "execution_count": 15,
   "id": "d7c451a3-8de9-43c2-b79a-8203eeaf221e",
   "metadata": {
    "tags": []
   },
   "outputs": [
    {
     "data": {
      "text/plain": [
       "NodeDataView({0: -1.0, 1: -1.0, 2: 1.0, 3: 1.0, 4: -1.0}, data='activity')"
      ]
     },
     "execution_count": 15,
     "metadata": {},
     "output_type": "execute_result"
    }
   ],
   "source": [
    "G.nodes.data('activity')"
   ]
  },
  {
   "cell_type": "code",
   "execution_count": 16,
   "id": "59636b2c-bdac-4fcf-a4cc-db662ba5e86a",
   "metadata": {
    "tags": []
   },
   "outputs": [
    {
     "data": {
      "text/plain": [
       "EdgeDataView([(0, 0, 0.0), (0, 1, 0.32371416296611893), (0, 2, 0.5973815453992952), (0, 3, 0.6577969673055386), (0, 4, 0.47383519026229276), (1, 1, 0.9999997436128457), (1, 2, 0.5042909131339594), (1, 3, 0.7504490942628665), (1, 4, 0.6472778639580031), (2, 2, 0.3808984833039589), (2, 3, 0.273406943107762), (2, 4, 0.5227554993123884), (3, 3, 0.5459643460530377), (3, 4, 0.3213966346069243), (4, 4, 0.5987186082963636)])"
      ]
     },
     "execution_count": 16,
     "metadata": {},
     "output_type": "execute_result"
    }
   ],
   "source": [
    "G.edges.data('weight')"
   ]
  },
  {
   "cell_type": "code",
   "execution_count": 17,
   "id": "385847f1-3ec5-4ce7-843e-1f2da8a14d64",
   "metadata": {
    "tags": []
   },
   "outputs": [
    {
     "data": {
      "text/plain": [
       "NodeDataView({0: 1.0, 1: -1.0, 2: 1.0, 3: -1.0, 4: -1.0}, data='activity')"
      ]
     },
     "execution_count": 17,
     "metadata": {},
     "output_type": "execute_result"
    }
   ],
   "source": [
    "G0.nodes.data('activity')"
   ]
  },
  {
   "cell_type": "code",
   "execution_count": 18,
   "id": "f5c76dca-44b8-4999-a852-7a7d230261d2",
   "metadata": {
    "tags": []
   },
   "outputs": [
    {
     "data": {
      "image/png": "[encoded data removed]",
      "text/plain": [
       "<Figure size 640x480 with 2 Axes>"
      ]
     },
     "metadata": {},
     "output_type": "display_data"
    }
   ],
   "source": [
    "%matplotlib inline\n",
    "\n",
    "colorMap='cool'\n",
    "\n",
    "subax1 = plt.subplot(231)\n",
    "nx.draw_networkx(\n",
    "    G0, \n",
    "    pos=nx.circular_layout(G0), \n",
    "    node_color=[v for u,v in G0.nodes.data('activity')],\n",
    "    cmap=colorMap, \n",
    "    vmin=-1,vmax=1,\n",
    "    #edgelist=G0.edges,\n",
    "    width=2,\n",
    "    edge_color=[w for u,v,w in G0.edges.data('weight')],\n",
    "    #edge_color=G0.edges.data('weight'),\n",
    "    edge_vmin=0,edge_vmax=1,\n",
    "    #edge_cmap='viridis',\n",
    "    with_labels=True\n",
    ")\n",
    "\n",
    "subax2 = plt.subplot(232)\n",
    "nx.draw_networkx(\n",
    "    G, \n",
    "    pos=nx.circular_layout(G),\n",
    "    node_color=[v for u,v in G.nodes.data('activity')],\n",
    "    cmap=colorMap,\n",
    "    vmin=-1,vmax=1, \n",
    "    #edgelist=G.edges,\n",
    "    width=2,\n",
    "    edge_color=[w for u,v,w in G.edges.data('weight')],\n",
    "    edge_vmin=0,edge_vmax=1,\n",
    "    #edge_cmap='viridis',\n",
    "    with_labels=True)\n",
    "\n",
    "plt.show()"
   ]
  },
  {
   "cell_type": "markdown",
   "id": "d60eb070-fcbe-40d7-8084-8264d0758c64",
   "metadata": {},
   "source": [
    "## Perceptrón\n",
    "\n",
    "Un tipo especial de red neuronal es la _feed-forward_: las neuronas pueden arreglarse en capas $l=1,\\dots,L$ de tal modo que una neurona en la capa:\n",
    "\n",
    "1. $l=1$ (_capa de entrada_): sólo _alimenta_ a las neuronas de la capa $l+1$;\n",
    "2. $l\\in \\{2,\\dots,L-1\\}$ (_capas ocultas_): sólo _alimenta_ a las neuronas de la capa $l+1$, y recibe la entrada de las neuronas de la capa $l-1$;\n",
    "3. $l=L$ (_capa de salida_): sólo recibe la entrada de las neuronas de la capa $l-1$.\n",
    "\n",
    "El perceptrón es una red neuronal _feed-forward_ con $L=2$ (es decir: sin capas ocultas):\n",
    "\n",
    "$$\\sigma=\\mathrm{sign}\\left(\\sum_{i} J_i S_i\\right)$$\n",
    "\n",
    "### Clasificación de números\n",
    "\n",
    "Si $\\mathbf{S}=\\left(S_1,\\dots,S_{2N}\\right)$ representa un par de números enteros de $N$ bits:\n",
    "\n",
    "- $(S_1,\\dots,S_N)\\sim n_1=\\sum_{i=1}^N 2^{N-i} \\left(\\frac{S_{i}+1}{2}\\right)$;\n",
    "- $(S_{N+1},\\dots,S_{2N})\\sim n_2=\\sum_{i=1}^N 2^{N-i}  \\left(\\frac{S_{N+i}+1}{2}\\right)$;\n",
    "\n",
    "entonces los acoplamientos $\\mathbf{J}^*=(J_1^*,\\dots,J_N^*)$ dados por:\n",
    "\n",
    "- $ J_i^*=2^{N-i}$ para $i=1,\\dots,N$;\n",
    "- $J_i^*=-J_{i-N}^*$ para $i=N+1,\\dots,2N$;\n",
    "\n",
    "son tales que:\n",
    "\n",
    "- $\\sigma=-1$ si $n_1<n_2$\n",
    "- $\\sigma=+1$ si $n_1>n_2$\n",
    "\n",
    "Sin embargo, puede definirse una dinámica $\\mathbf{J}(t+1)=f(\\mathbf{J}(t))$ tal que, mediante _ejemplos_, haga que un estado aleatorio inicial $\\mathbf{J}(0)$ converja a $\\mathbf{J}^*$.\n",
    "\n",
    "### Esquema de aprendizaje del clasificador de números\n",
    "\n",
    "1. Un conjunto de $p$ vectores de entrada $\\{\\mathbf{\\xi}^{\\mu}\\}_{\\mu=1}^p$. Para cada $\\mathbf{\\xi}^{\\mu}$, _se sabe de antemano la salida correcta_ $\\sigma_T^{\\mu}$. A la colección $\\{(\\mathbf{\\xi}^{\\mu},\\sigma_T^{\\mu})\\}_{\\mu=1}^p$ se le llama _conjunto de entrenamiento_ o _de ejemplos_.\n",
    "> **Notas**: \n",
    "> - El subíndice $T$ viene de _target_.\n",
    "> - Las entradas y salidas $\\{(\\mathbf{\\xi}^{\\mu},\\sigma_T^{\\mu})\\}_{\\mu=1}^p$ se asocian, por conveniencia, a una red _feed-forward_ objetivo con acoplamientos $\\mathbf{T}$. En este caso, $\\mathbf{T}$ proviende de _target_ y _teacher_. La arquitectura de $\\mathbf{T}$ no es necesariamente la misma que la de $\\mathbf{J}$, salvo en el número de entradas y salidas.\n",
    "2. La _regla de aprendizaje_ que adapta $\\mathbf{J}$ (incluyendo posiblemente elementos aleatorios) a los ejemplos $\\{(\\mathbf{\\xi}^{\\mu},\\sigma_T^{\\mu})\\}_{\\mu=1}^p$.\n",
    "3. El _error de entrenamiento_:\n",
    "$$\\varepsilon_t\\left(\\mathbf{J};\\{\\mathbf{\\xi}^{\\mu}\\},\\mathbf{T}\\right)=\\frac{1}{p}\\sum_{\\mu=1}^p\\mathrm{d}\\left(\\mathbf{J};\\mathbf{\\xi}^{\\mu},\\mathbf{T}\\right)$$\n",
    "donde $\\mathrm{d}\\left(\\mathbf{J};\\mathbf{S},\\mathbf{T}\\right)$ mide la disimilaridad (distancia) entre las salidas de $\\mathbf{S}$ bajo $\\mathbf{J}$ y $\\mathbf{T}$.\n",
    "> **Notas**:\n",
    "> 1. Algunas distancias $\\mathrm{d}\\left(\\mathbf{J};\\mathbf{S},\\mathbf{T}\\right)$ son:\n",
    ">   - $\\mathrm{d}\\left(\\mathbf{J};\\mathbf{S},\\mathbf{T}\\right)=\\theta(-\\sigma_t \\sigma)$\n",
    ">   - $\\mathrm{d}\\left(\\mathbf{J};\\mathbf{S},\\mathbf{T}\\right)=(\\sigma_T-\\sigma)^2/4$\n",
    "> 2. Para determinar _qué tan bien se aproxima $\\mathbf{J}$ a $\\mathbf{T}$_, se define el _error de aproximación_ mediante el valor esperado de $\\mathrm{d}\\left(\\mathbf{J};\\mathbf{S},\\mathbf{T}\\right)$:\n",
    "> $$\\varepsilon\\left(\\mathbf{J};\\mathbf{T}\\right)=\\sum_{\\mathbf{S}\\in\\{-1,1\\}^N} P(\\mathbf{S}) \\mathrm{d}\\left(\\mathbf{J};\\mathbf{S},\\mathbf{T}\\right)$$\n",
    "donde $P(\\mathbf{S})$ es una distribución de ejemplos (entradas) de entrenamiento. Esto implica que el error de entrenamiento $\\varepsilon_t$ es un estimador del error de generalización $\\varepsilon$.\n",
    "> 3. En física estadística se considera principalmente el escenario especial de una red neuronal de profesor y una red neuronal alumno, y su objetivo es producir resultados exactos para el comportamiento típico (límite termodinámico; mediana=media; varianza nula: auto promediación) de aprendizaje, en el que tanto el número de acoplamientos de la red del alumno $N$ y el número de ejemplos del conjunto de entrenamiento $p$ divergen, manteniendo una razón constante $\\alpha$: $p=\\alpha N$.\n",
    "\n",
    "#### Definiciones preliminares"
   ]
  },
  {
   "cell_type": "code",
   "execution_count": 19,
   "id": "21a748f6-59e1-4aa1-b0bd-fb0355894665",
   "metadata": {
    "tags": []
   },
   "outputs": [],
   "source": [
    "def binaryForm(n,n_bits):\n",
    "    assert type(n) in {int,np.int_} and n<2**n_bits\n",
    "    s=np.base_repr(n,2)\n",
    "    if n>=2**(n_bits-1):\n",
    "        t=list(s)\n",
    "    else:\n",
    "        t=list('0'*(n_bits-len(s))+s)\n",
    "    return np.array([2*int(i)-1 for i in list(t)])\n",
    "\n",
    "def naturalForm(x):\n",
    "    assert type(x)==np.ndarray\n",
    "    n=len(x)\n",
    "    return int(sum([(x[i]+1)*2**(n-i-2) for i in range(n)]))\n",
    "\n",
    "def trueFalseBin(x):\n",
    "    assert all([type(q)==np.bool_ for q in x])\n",
    "    return np.array([1 if q else -1 for q in x])"
   ]
  },
  {
   "cell_type": "code",
   "execution_count": 21,
   "id": "90d44d47-e78e-4ae9-bcc1-38f985ac10f9",
   "metadata": {
    "tags": []
   },
   "outputs": [
    {
     "data": {
      "text/plain": [
       "array([ 1,  1, -1, -1])"
      ]
     },
     "execution_count": 21,
     "metadata": {},
     "output_type": "execute_result"
    }
   ],
   "source": [
    "binaryForm(12,4)"
   ]
  },
  {
   "cell_type": "code",
   "execution_count": 26,
   "id": "7596b231-0463-4e86-af02-a99f9fc99cc6",
   "metadata": {
    "tags": []
   },
   "outputs": [
    {
     "data": {
      "text/plain": [
       "array([-1,  1,  1, -1,  1])"
      ]
     },
     "execution_count": 26,
     "metadata": {},
     "output_type": "execute_result"
    }
   ],
   "source": [
    "binaryForm(13,5)"
   ]
  },
  {
   "cell_type": "code",
   "execution_count": 22,
   "id": "c8fbed36-514e-4f78-bf79-50605377a936",
   "metadata": {
    "tags": []
   },
   "outputs": [
    {
     "data": {
      "text/plain": [
       "13"
      ]
     },
     "execution_count": 22,
     "metadata": {},
     "output_type": "execute_result"
    }
   ],
   "source": [
    "naturalForm(np.array([-1,-1,1,1,-1,1]))"
   ]
  },
  {
   "cell_type": "markdown",
   "id": "11ca3bfa-581a-4c18-80d7-03ab0dcf9f86",
   "metadata": {},
   "source": [
    "#### Comparación de desempeños\n",
    "\n",
    "La cantidad de posibles elecciones $\\mathbf{S}\\in\\{-1,1\\}^{2N}$ es $2^{2N}\\approx10^{3N/5}$. Estas elecciones corresponderán a la comparación entre dos números de $N$ bits.\n",
    "\n",
    "> **Ejemplo**: las posibles comparaciones entre dos números de $N=10$ bits son $1048576\\approx 10^6$.\n",
    "\n",
    "Definir el conjunto de entrenamiento:"
   ]
  },
  {
   "cell_type": "code",
   "execution_count": 24,
   "id": "2f492a6f-139d-41d8-8d2a-f046cfa518e6",
   "metadata": {
    "tags": []
   },
   "outputs": [],
   "source": [
    "p=1000 #número de ejemplos\n",
    "Nbits=10 #cantidad de bits en los números por comparar\n",
    "rng = np.random.default_rng()"
   ]
  },
  {
   "cell_type": "markdown",
   "id": "f933ceb4-99a9-4376-9cf1-4efe6bcf124e",
   "metadata": {},
   "source": [
    "Los dos primeros pares de números son:"
   ]
  },
  {
   "cell_type": "code",
   "execution_count": 25,
   "id": "02e394f8-551f-4422-84a1-d63b5ee7903f",
   "metadata": {
    "tags": []
   },
   "outputs": [
    {
     "data": {
      "text/plain": [
       "array([[595, 397],\n",
       "       [291, 232]])"
      ]
     },
     "execution_count": 25,
     "metadata": {},
     "output_type": "execute_result"
    }
   ],
   "source": [
    "Xi=rng.integers(2**Nbits, size=(p,2))\n",
    "Xi[0:2]"
   ]
  },
  {
   "cell_type": "markdown",
   "id": "cdb85a69-971b-4144-8a68-bed28b3de492",
   "metadata": {},
   "source": [
    "Y la comparación entre ellos es:"
   ]
  },
  {
   "cell_type": "code",
   "execution_count": 26,
   "id": "016224f8-c56a-4032-b13f-b110026c250a",
   "metadata": {
    "tags": []
   },
   "outputs": [
    {
     "data": {
      "text/plain": [
       "array([ True,  True])"
      ]
     },
     "execution_count": 26,
     "metadata": {},
     "output_type": "execute_result"
    }
   ],
   "source": [
    "sigma_T=np.array([xi[0] > xi[1] for xi in Xi])\n",
    "sigma_T[0:2]"
   ]
  },
  {
   "cell_type": "markdown",
   "id": "38d0625a-cc24-44d9-a2f9-99f8eb9910f9",
   "metadata": {
    "tags": []
   },
   "source": [
    "Juntamos ambos arreglos en forma canónica:"
   ]
  },
  {
   "cell_type": "code",
   "execution_count": 27,
   "id": "6e687d71-742c-4c2c-b7fd-77eaca11b048",
   "metadata": {
    "tags": []
   },
   "outputs": [],
   "source": [
    "trainingSet=[\n",
    "    (np.concatenate(tuple(binaryForm(x0,Nbits) for x0 in x)),y) for x,y in zip(Xi,trueFalseBin(sigma_T))\n",
    "]"
   ]
  },
  {
   "cell_type": "markdown",
   "id": "87882092-af95-4d8c-97c0-f486871f423e",
   "metadata": {},
   "source": [
    "El primer ejemplo $(\\mathbf{\\xi}^1,\\sigma^1_T)$ es:"
   ]
  },
  {
   "cell_type": "code",
   "execution_count": 28,
   "id": "f79c9317-31e0-4b51-96e0-1d8a7a622596",
   "metadata": {
    "tags": []
   },
   "outputs": [
    {
     "name": "stdout",
     "output_type": "stream",
     "text": [
      "Xi[0]=[ 1 -1 -1  1 -1  1 -1 -1  1  1 -1  1  1 -1 -1 -1  1  1 -1  1],\n",
      " sigma_T[0]=1\n"
     ]
    }
   ],
   "source": [
    "print('Xi[0]={},\\n sigma_T[0]={}'.format(*trainingSet[0]))"
   ]
  },
  {
   "cell_type": "markdown",
   "id": "f77b90ad-e77f-47d5-8e1a-37ee379c5763",
   "metadata": {},
   "source": [
    "Definir acoplamientos de la red objetivo (target/teacher):"
   ]
  },
  {
   "cell_type": "code",
   "execution_count": 29,
   "id": "d8d78d0f-4872-41c6-a5b7-eb3979b6c677",
   "metadata": {
    "tags": []
   },
   "outputs": [
    {
     "data": {
      "text/plain": [
       "array([512., 256., 128.,  64.,  32.,  16.,   8.,   4.,   2.,   1.])"
      ]
     },
     "execution_count": 29,
     "metadata": {},
     "output_type": "execute_result"
    }
   ],
   "source": [
    "J_t=np.empty(2*Nbits)\n",
    "J_t[:Nbits]=[2**(Nbits-i-1) for i in range(Nbits)]\n",
    "J_t[:Nbits]"
   ]
  },
  {
   "cell_type": "code",
   "execution_count": 30,
   "id": "1ab3ca37-d047-4388-bb5f-37435e60f4d6",
   "metadata": {
    "tags": []
   },
   "outputs": [
    {
     "data": {
      "text/plain": [
       "array([-512., -256., -128.,  -64.,  -32.,  -16.,   -8.,   -4.,   -2.,\n",
       "         -1.])"
      ]
     },
     "execution_count": 30,
     "metadata": {},
     "output_type": "execute_result"
    }
   ],
   "source": [
    "J_t[Nbits:]=-J_t[:Nbits]\n",
    "J_t[Nbits:]"
   ]
  },
  {
   "cell_type": "code",
   "execution_count": 31,
   "id": "f43ded78-15ec-4e9a-81e7-d8df4e444a04",
   "metadata": {
    "tags": []
   },
   "outputs": [
    {
     "data": {
      "text/plain": [
       "array([ 512.,  256.,  128.,   64.,   32.,   16.,    8.,    4.,    2.,\n",
       "          1., -512., -256., -128.,  -64.,  -32.,  -16.,   -8.,   -4.,\n",
       "         -2.,   -1.])"
      ]
     },
     "execution_count": 31,
     "metadata": {},
     "output_type": "execute_result"
    }
   ],
   "source": [
    "J_t"
   ]
  },
  {
   "cell_type": "markdown",
   "id": "a44740e1-48b8-487b-92bd-35f9f24708e4",
   "metadata": {},
   "source": [
    "Comprobar que la clasificación es correcta para algunos números:"
   ]
  },
  {
   "cell_type": "code",
   "execution_count": 33,
   "id": "4231a7c0-b083-46dd-8197-065283a305ba",
   "metadata": {
    "tags": []
   },
   "outputs": [
    {
     "data": {
      "text/plain": [
       "[1.0, 1.0, -1.0, 1.0, -1.0]"
      ]
     },
     "execution_count": 33,
     "metadata": {},
     "output_type": "execute_result"
    }
   ],
   "source": [
    "[np.sign(J_t.dot(trainingSet[i][0])) for i in range(5)]"
   ]
  },
  {
   "cell_type": "code",
   "execution_count": 34,
   "id": "4fc558ab-ec19-48fa-bcb0-ab90ad2ea64b",
   "metadata": {
    "tags": []
   },
   "outputs": [
    {
     "data": {
      "text/plain": [
       "[1, 1, -1, 1, -1]"
      ]
     },
     "execution_count": 34,
     "metadata": {},
     "output_type": "execute_result"
    }
   ],
   "source": [
    "[trainingSet[i][1] for i in range(5)]"
   ]
  },
  {
   "cell_type": "markdown",
   "id": "7d49e180-5f86-4181-8016-69a776e238db",
   "metadata": {},
   "source": [
    "Sin embargo, la cantidad de errores no es nula:"
   ]
  },
  {
   "cell_type": "code",
   "execution_count": 35,
   "id": "965661e5-ef86-42de-bd3e-c0361ade5d85",
   "metadata": {
    "tags": []
   },
   "outputs": [
    {
     "data": {
      "text/plain": [
       "array([], shape=(0, 1), dtype=int64)"
      ]
     },
     "execution_count": 35,
     "metadata": {},
     "output_type": "execute_result"
    }
   ],
   "source": [
    "error_t=[np.sign(J_t.dot(trainingSet[i][0]))!=trainingSet[i][1] for i in range(p)]\n",
    "np.argwhere(error_t)"
   ]
  },
  {
   "cell_type": "markdown",
   "id": "07261a1a-9205-4a4f-8b34-de8001a88bc9",
   "metadata": {},
   "source": [
    "La razón es que el perceptrón no incluye el caso en que $n_1 = n_2$:"
   ]
  },
  {
   "cell_type": "code",
   "execution_count": 36,
   "id": "dd9ade44-be8a-4d18-8a42-30768865dcfc",
   "metadata": {
    "tags": []
   },
   "outputs": [
    {
     "data": {
      "text/plain": [
       "[]"
      ]
     },
     "execution_count": 36,
     "metadata": {},
     "output_type": "execute_result"
    }
   ],
   "source": [
    "[Xi[i] for i in np.argwhere(error_t)]"
   ]
  },
  {
   "cell_type": "markdown",
   "id": "7d1927e3-b4de-41fc-bdf7-285b0c6d30b8",
   "metadata": {},
   "source": [
    "Definir ahora acoplamientos (_aleatorios_) de la red aprendiz (student, learner):"
   ]
  },
  {
   "cell_type": "code",
   "execution_count": 37,
   "id": "bb612c7b-1987-428d-a1d7-6d533c53093f",
   "metadata": {
    "tags": []
   },
   "outputs": [
    {
     "data": {
      "text/plain": [
       "array([  51,  143, -450, -214,   30,  119,  124,  256, -508,  241, -458,\n",
       "        197,  502,  360, -360, -363,  185, -174, -153,  -67])"
      ]
     },
     "execution_count": 37,
     "metadata": {},
     "output_type": "execute_result"
    }
   ],
   "source": [
    "J_s=rng.integers(-2**(Nbits-1),2**(Nbits-1), size=2*Nbits)\n",
    "J_s"
   ]
  },
  {
   "cell_type": "markdown",
   "id": "3aedd95c-8a0a-4f9f-868d-4fc6fb7b79b9",
   "metadata": {},
   "source": [
    "¿Cuántos errores hace?"
   ]
  },
  {
   "cell_type": "code",
   "execution_count": 38,
   "id": "3efe0c3a-e857-4e18-9d92-f95a0a437c91",
   "metadata": {
    "tags": []
   },
   "outputs": [
    {
     "data": {
      "text/plain": [
       "475"
      ]
     },
     "execution_count": 38,
     "metadata": {},
     "output_type": "execute_result"
    }
   ],
   "source": [
    "error_s=[np.sign(J_s.dot(trainingSet[i][0]))!=trainingSet[i][1] for i in range(p)]\n",
    "sum(error_s)"
   ]
  },
  {
   "cell_type": "markdown",
   "id": "abc88a4d-1c74-46b5-82ac-06f228807697",
   "metadata": {},
   "source": [
    "> **Nota**: Para una distribución (simétrica y centrada en 0) en $\\mathbf{J}$, la clasificación es correcta (en promedio) la mitad de las veces."
   ]
  },
  {
   "cell_type": "code",
   "execution_count": 39,
   "id": "6bd5d162-84f5-4ea5-96be-0f6e5f686ad9",
   "metadata": {
    "tags": []
   },
   "outputs": [
    {
     "data": {
      "text/plain": [
       "0.475"
      ]
     },
     "execution_count": 39,
     "metadata": {},
     "output_type": "execute_result"
    }
   ],
   "source": [
    "sum(error_s)/p"
   ]
  },
  {
   "cell_type": "markdown",
   "id": "bbad87ab-2cb6-4fd2-a6bb-471d08c1772d",
   "metadata": {},
   "source": [
    "La clasificación de $\\mathbf{S}$ mediante $\\mathbf{J}$ depende del ángulo de inclinación, por lo que la normalización:\n",
    "\n",
    "$$\\mathbf{J}^2=\\sum_{i}J_i^2=N;\\;\\mathbf{S}^2=\\sum_{i}S_i^2=N$$\n",
    "\n",
    "involucra un espacio de estados _efectivo_ (cuya superficie crece exponencialmente con $N$) para el que es posible restringir el análisis del problema de aprendizaje."
   ]
  },
  {
   "cell_type": "code",
   "execution_count": null,
   "id": "f5701ca3-5671-48f4-adcc-1166172b4bee",
   "metadata": {},
   "outputs": [],
   "source": []
  },
  {
   "cell_type": "markdown",
   "id": "371aa91c-81fd-4951-bd35-d5d2001f53a8",
   "metadata": {},
   "source": [
    "## Referencias \n",
    "\n",
    "- P. Peretto. **An introduction to the modeling of neural networks**.\n",
    "   - Capítulo 3.\n",
    "- A. Engel; C. Van den Browck. **Statistical mechanics of learning**.\n",
    "   - Capítulos 1 y 2.\n",
    "- D. J. MacKay. **Information theory, inference, and learning algorithms**.\n",
    "   - Capítulo 5, secciones 38 a 40.\n",
    "- M. Mézard; A. Montanari. **Information, Physics, and Computation**.\n",
    "   - Capítulos 1 y 2."
   ]
  },
  {
   "cell_type": "code",
   "execution_count": 45,
   "id": "37bef859-9909-412c-93c1-0fd1b0ba2261",
   "metadata": {},
   "outputs": [],
   "source": [
    "import sympy as sp\n",
    "w,x,y,z=sp.symbols('w,x,y,z')"
   ]
  },
  {
   "cell_type": "code",
   "execution_count": 50,
   "id": "7ad3a5b9-a281-43e1-a162-b91520bad0ca",
   "metadata": {
    "tags": []
   },
   "outputs": [
    {
     "data": {
      "text/latex": [
       "$\\displaystyle w^{3} - 8$"
      ],
      "text/plain": [
       "w**3 - 8"
      ]
     },
     "execution_count": 50,
     "metadata": {},
     "output_type": "execute_result"
    }
   ],
   "source": [
    "((w-3)*(w**2+3*w+9)+19).expand()"
   ]
  },
  {
   "cell_type": "code",
   "execution_count": 48,
   "id": "4918b0c8-88f3-4371-8e12-c2ebeb44a42d",
   "metadata": {
    "tags": []
   },
   "outputs": [
    {
     "data": {
      "text/latex": [
       "$\\displaystyle 3 x^{3} + 18 x^{2} - 5 x - 90$"
      ],
      "text/plain": [
       "3*x**3 + 18*x**2 - 5*x - 90"
      ]
     },
     "execution_count": 48,
     "metadata": {},
     "output_type": "execute_result"
    }
   ],
   "source": [
    "((x+6)*(3*x**2-5)-60).expand()"
   ]
  },
  {
   "cell_type": "code",
   "execution_count": 51,
   "id": "9d88bf0b-9495-4dfc-b2a4-a29be6375254",
   "metadata": {
    "tags": []
   },
   "outputs": [
    {
     "data": {
      "text/latex": [
       "$\\displaystyle 3 x^{3} + 18 x^{2} - 5 x - 30$"
      ],
      "text/plain": [
       "3*x**3 + 18*x**2 - 5*x - 30"
      ]
     },
     "execution_count": 51,
     "metadata": {},
     "output_type": "execute_result"
    }
   ],
   "source": [
    "((x+6)*(3*x**2-5)).expand()"
   ]
  },
  {
   "cell_type": "code",
   "execution_count": 52,
   "id": "00af3ae3-92a4-4195-91a7-9b14d34ce7ad",
   "metadata": {
    "tags": []
   },
   "outputs": [
    {
     "data": {
      "text/latex": [
       "$\\displaystyle 3 x^{2} + 10 x + 6$"
      ],
      "text/plain": [
       "3*x**2 + 10*x + 6"
      ]
     },
     "execution_count": 52,
     "metadata": {},
     "output_type": "execute_result"
    }
   ],
   "source": [
    "((x+2)*(3*x+4)-2).expand()"
   ]
  },
  {
   "cell_type": "code",
   "execution_count": 53,
   "id": "cfe0f3d2-087a-4997-bd18-64e5e3a62d77",
   "metadata": {
    "tags": []
   },
   "outputs": [
    {
     "data": {
      "text/latex": [
       "$\\displaystyle 3 x^{2} + 5 x - 8$"
      ],
      "text/plain": [
       "3*x**2 + 5*x - 8"
      ]
     },
     "execution_count": 53,
     "metadata": {},
     "output_type": "execute_result"
    }
   ],
   "source": [
    "((x-1)*(3*x+8)).expand()"
   ]
  },
  {
   "cell_type": "code",
   "execution_count": null,
   "id": "da58c39b-8a58-4c22-8fb2-89255f4f7b6f",
   "metadata": {},
   "outputs": [],
   "source": []
  }
 ],
 "metadata": {
  "kernelspec": {
   "display_name": "Python 3 (ipykernel)",
   "language": "python",
   "name": "python3"
  },
  "language_info": {
   "codemirror_mode": {
    "name": "ipython",
    "version": 3
   },
   "file_extension": ".py",
   "mimetype": "text/x-python",
   "name": "python",
   "nbconvert_exporter": "python",
   "pygments_lexer": "ipython3",
   "version": "3.10.9"
  },
  "widgets": {
   "application/vnd.jupyter.widget-state+json": {
    "state": {
     "7d337e9687bd43bc868893d18419db5a": {
      "model_module": "@jupyter-widgets/base",
      "model_module_version": "2.0.0",
      "model_name": "LayoutModel",
      "state": {}
     },
     "b3e852ab7c3844f1bbfb0d0f5b7a46c2": {
      "model_module": "@jupyter-widgets/base",
      "model_module_version": "2.0.0",
      "model_name": "LayoutModel",
      "state": {}
     },
     "cd33162c219f479db7006902c7067359": {
      "model_module": "jupyter-matplotlib",
      "model_module_version": "^0.11",
      "model_name": "ToolbarModel",
      "state": {
       "_model_module_version": "^0.11",
       "_view_module_version": "^0.11",
       "collapsed": true,
       "layout": "IPY_MODEL_7d337e9687bd43bc868893d18419db5a",
       "orientation": "vertical",
       "toolitems": [
        [
         "Home",
         "Reset original view",
         "home",
         "home"
        ],
        [
         "Back",
         "Back to previous view",
         "arrow-left",
         "back"
        ],
        [
         "Forward",
         "Forward to next view",
         "arrow-right",
         "forward"
        ],
        [
         "Pan",
         "Left button pans, Right button zooms\nx/y fixes axis, CTRL fixes aspect",
         "arrows",
         "pan"
        ],
        [
         "Zoom",
         "Zoom to rectangle\nx/y fixes axis",
         "square-o",
         "zoom"
        ],
        [
         "Download",
         "Download plot",
         "floppy-o",
         "save_figure"
        ]
       ]
      }
     }
    },
    "version_major": 2,
    "version_minor": 0
   }
  }
 },
 "nbformat": 4,
 "nbformat_minor": 5
}
