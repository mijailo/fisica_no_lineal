{
 "cells": [
  {
   "cell_type": "markdown",
   "id": "40379d39-809b-47d2-9d3c-2edef5d3f983",
   "metadata": {},
   "source": [
    "# Introducción a los algoritmos de redes neuronales\n",
    "\n",
    "## Especificación de una red neuronal\n",
    "\n",
    "1. **Arquitectura**: definición de la red neuronal y de su topología, dada normalmente por un [grafo dirigido](https://en.wikipedia.org/wiki/Directed_graph) con pesos. A cada neurona (nodo) se le asigna una o más variables (la _actividad_), y las conexiones/interacciones neuronales se modelan por las aristas pesadas del grafo.\n",
    "2. **Regla de actividad**: definición de la forma en que cambian las actividades neuronales en el tiempo, tomando en cuenta sus interacciones (es decir: una dinámica).\n",
    "3. **Regla de aprendizaje**: definición de la forma en que las interacciones neuronales cambian en el tiempo, tomando en cuenta la actividad neuronal.\n",
    "\n",
    "> **Nota**: normalmente la escala temporal de la regla de actividad es menor que la de la regla de aprendizaje.\n",
    "\n",
    "## Red de McCulloc-Pitts\n",
    "\n",
    "Una red neuronal de McCulloch-Pitts se modela como:\n",
    "\n",
    "1. Un vector $\\mathbf{S}\\subseteq\\{-1,1\\}^N$ (con $N\\in\\mathbb{N}$, $N\\geq 1$ fijo) de _actividad neuronal_.\n",
    "> $S_j=\\pm 1$ indica que la $i-$ésima neurona está activa o pasiva.\n",
    "2. Una matriz $\\mathbf{J}=(J_{ij})\\in\\mathbb{R}^{N\\times N}$ de _acoplamientos sinápticos_ (también llamada _matriz sináptica_).\n",
    "3. La dinámica:\n",
    "$$S_i(t+1)=\\mathrm{sign}\\left(\\sum_{j}J_{ij}S_j(t)-\\theta_i\\right)$$ \n",
    "donde $\\theta_i$ es un _umbral de activación_ específico de cada neurona $i$. En este caso, $t\\in\\mathbb{N}$ con $\\mathbf{S}(0)$ fijado de antemano.\n",
    "> La idea es que una neurona _suma_ la actividad entrante de todas las demás neuronas, ponderada por las fuerzas de acoplamiento sináptico correspondientes, para obtener el potencial postsináptico. Éste luego se compara con un umbral específico de cada neurona: si el potencial postsináptico supera el umbral, la neurona estará activa en el siguiente paso temporal; en caso contrario, será pasiva.\n",
    "4. La función:\n",
    "$$\\mathcal{H}\\left(\\mathbf{S}\\right)=-\\sum_{i,j} J_{ij} S_i S_j$$\n",
    "> Cuando $\\mathbf{J}$ es simétrica, la función $\\mathcal{H}$ está acotada inferiormente."
   ]
  },
  {
   "cell_type": "code",
   "execution_count": 1,
   "id": "3ca4c82d-a379-4d1c-81f6-cde6e31fc3ef",
   "metadata": {
    "tags": []
   },
   "outputs": [],
   "source": [
    "import numpy as np\n",
    "import matplotlib.pyplot as plt\n",
    "import networkx as nx"
   ]
  },
  {
   "cell_type": "code",
   "execution_count": 2,
   "id": "4d742e54-2441-4a4d-a69f-9133959c8e7b",
   "metadata": {
    "tags": []
   },
   "outputs": [],
   "source": [
    "class Perceptron:\n",
    "    def __init__(self, S, J, threshold):\n",
    "        assert len(S)==len(J)==len(threshold) and J.shape==(N,N)\n",
    "        self.nodes = S\n",
    "        self.size = len(S)\n",
    "        self.couplings = J\n",
    "        self.threshold = threshold\n",
    "        self.energy = [-self.nodes.dot(self.couplings.dot(self.nodes))]\n",
    "\n",
    "    def evolve(self,t):\n",
    "        assert t>=0 and type(t)==int\n",
    "        t_f=0\n",
    "        while t_f < t:\n",
    "            self.nodes=np.sign(\n",
    "                self.couplings.dot(self.nodes)-self.threshold\n",
    "            )\n",
    "            self.energy.append(\n",
    "                -self.nodes.dot(self.couplings.dot(self.nodes))\n",
    "            )\n",
    "            t_f+=1"
   ]
  },
  {
   "cell_type": "markdown",
   "id": "e91dceff-db1a-49a1-bb62-2ab82f0245b5",
   "metadata": {},
   "source": [
    "Definimos interacciones simétricas y un umbral nulo:"
   ]
  },
  {
   "cell_type": "code",
   "execution_count": 29,
   "id": "103fd3fe-f62c-40b6-9dfa-1f650292ea2d",
   "metadata": {
    "tags": []
   },
   "outputs": [],
   "source": [
    "N=5\n",
    "J0=np.random.normal(size=(N,N))\n",
    "J0=(J0+J0.T)/2\n",
    "S0=np.random.choice(\n",
    "    [-1.,1.],\n",
    "    size=N\n",
    ")\n",
    "threshold=np.zeros(N) #Puede ser: threshold=np.random.normal(size=N)\n",
    "\n",
    "x = Perceptron(S0,J0,threshold)"
   ]
  },
  {
   "cell_type": "code",
   "execution_count": 30,
   "id": "7847b9ee-44d0-414f-959c-4c5e2df4106e",
   "metadata": {
    "tags": []
   },
   "outputs": [
    {
     "data": {
      "text/plain": [
       "array([-1., -1.,  1., -1.,  1.])"
      ]
     },
     "execution_count": 30,
     "metadata": {},
     "output_type": "execute_result"
    }
   ],
   "source": [
    "x.nodes"
   ]
  },
  {
   "cell_type": "code",
   "execution_count": 31,
   "id": "ec0e685d-4b93-47e0-8d18-f7939a697ec9",
   "metadata": {
    "tags": []
   },
   "outputs": [
    {
     "data": {
      "text/plain": [
       "array([[ 0.98520708,  0.26113478, -0.95398149, -0.12257658,  1.18889688],\n",
       "       [ 0.26113478,  0.08755125, -1.24456871,  0.11805388, -0.06665334],\n",
       "       [-0.95398149, -1.24456871, -0.16812018, -0.73698624, -0.50346358],\n",
       "       [-0.12257658,  0.11805388, -0.73698624, -0.16578829,  1.48146929],\n",
       "       [ 1.18889688, -0.06665334, -0.50346358,  1.48146929,  0.50639942]])"
      ]
     },
     "execution_count": 31,
     "metadata": {},
     "output_type": "execute_result"
    }
   ],
   "source": [
    "x.couplings"
   ]
  },
  {
   "cell_type": "code",
   "execution_count": 32,
   "id": "6b09db31-786d-41bd-92ea-3a9c128b24f6",
   "metadata": {
    "tags": []
   },
   "outputs": [
    {
     "data": {
      "text/plain": [
       "array([-1., -1.,  1.,  1., -1.])"
      ]
     },
     "execution_count": 32,
     "metadata": {},
     "output_type": "execute_result"
    }
   ],
   "source": [
    "x.evolve(1)\n",
    "x.nodes"
   ]
  },
  {
   "cell_type": "code",
   "execution_count": 33,
   "id": "6fb73aad-66b0-42f3-8222-f333a9bedd07",
   "metadata": {
    "tags": []
   },
   "outputs": [
    {
     "data": {
      "text/plain": [
       "[-1.4151934676859983, -4.9881678232267355]"
      ]
     },
     "execution_count": 33,
     "metadata": {},
     "output_type": "execute_result"
    }
   ],
   "source": [
    "x.energy"
   ]
  },
  {
   "cell_type": "code",
   "execution_count": 34,
   "id": "a85db533-235b-4df9-adf5-eccc6e0417db",
   "metadata": {
    "tags": []
   },
   "outputs": [],
   "source": [
    "x.evolve(20)"
   ]
  },
  {
   "cell_type": "code",
   "execution_count": 35,
   "id": "04c7c838-e35f-4aa0-bf4f-f00e1ed10ab7",
   "metadata": {
    "tags": []
   },
   "outputs": [
    {
     "data": {
      "text/plain": [
       "[-1.4151934676859983,\n",
       " -4.9881678232267355,\n",
       " -13.84389913507044,\n",
       " -13.84389913507044,\n",
       " -13.84389913507044,\n",
       " -13.84389913507044,\n",
       " -13.84389913507044,\n",
       " -13.84389913507044,\n",
       " -13.84389913507044,\n",
       " -13.84389913507044,\n",
       " -13.84389913507044,\n",
       " -13.84389913507044,\n",
       " -13.84389913507044,\n",
       " -13.84389913507044,\n",
       " -13.84389913507044,\n",
       " -13.84389913507044,\n",
       " -13.84389913507044,\n",
       " -13.84389913507044,\n",
       " -13.84389913507044,\n",
       " -13.84389913507044,\n",
       " -13.84389913507044,\n",
       " -13.84389913507044]"
      ]
     },
     "execution_count": 35,
     "metadata": {},
     "output_type": "execute_result"
    }
   ],
   "source": [
    "x.energy"
   ]
  },
  {
   "cell_type": "code",
   "execution_count": 36,
   "id": "4538c642-ba61-4dcc-912d-904377a19f9d",
   "metadata": {
    "tags": []
   },
   "outputs": [
    {
     "data": {
      "text/plain": [
       "Text(0.5, 0, '$j$')"
      ]
     },
     "execution_count": 36,
     "metadata": {},
     "output_type": "execute_result"
    },
    {
     "data": {
      "application/vnd.jupyter.widget-view+json": {
       "model_id": "05b0e3baff1647a985037093b9c642ea",
       "version_major": 2,
       "version_minor": 0
      },
      "image/png": "[encoded data removed]",
      "text/html": [
       "\n",
       "            <div style=\"display: inline-block;\">\n",
       "                <div class=\"jupyter-widgets widget-label\" style=\"text-align: center;\">\n",
       "                    Figure\n",
       "                </div>\n",
       "                <img src='data:image/png;base64,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' width=1300.0/>\n",
       "            </div>\n",
       "        "
      ],
      "text/plain": [
       "Canvas(toolbar=Toolbar(toolitems=[('Home', 'Reset original view', 'home', 'home'), ('Back', 'Back to previous …"
      ]
     },
     "metadata": {},
     "output_type": "display_data"
    }
   ],
   "source": [
    "%matplotlib widget\n",
    "fig,ax=plt.subplots(\n",
    "    1,3,\n",
    "    figsize=(13,5),\n",
    "    width_ratios=[4,1,5]\n",
    ")\n",
    "ax[0].plot(x.energy)\n",
    "ax[0].set_title('Evolución de $\\mathcal{H}(t)$')\n",
    "ax[0].set_ylabel('$\\mathcal{H}(t)$',fontsize=12)\n",
    "ax[0].set_xlabel('$t$',fontsize=12)\n",
    "ax[0].grid()\n",
    "\n",
    "ax[1].barh(range(x.size),x.threshold)\n",
    "ax[1].set_title('Medidas de los umbrales $\\\\theta_{i}$')\n",
    "ax[1].set_ylabel('$i$',fontsize=12)\n",
    "ax[1].set_xlabel('$\\\\theta_i$',fontsize=12)\n",
    "ax[1].grid()\n",
    "\n",
    "im=ax[2].imshow(x.couplings,cmap='bwr')\n",
    "plt.colorbar(\n",
    "    im,ax=ax[2],\n",
    "    shrink=0.72,\n",
    "    aspect=50,\n",
    "    label='$J_{ij}$'\n",
    ")\n",
    "ax[2].set_title('Medidas de los acoplamientos $J_{ij}$')\n",
    "ax[2].set_ylabel('$i$',fontsize=12)\n",
    "ax[2].set_xlabel('$j$',fontsize=12)"
   ]
  },
  {
   "cell_type": "markdown",
   "id": "76a21b3f-83bc-4372-8f3c-cb3e25d1222f",
   "metadata": {},
   "source": [
    "Ahora compararemos el estado inicial con el (los) final(es):"
   ]
  },
  {
   "cell_type": "code",
   "execution_count": 37,
   "id": "0e171045-4f3c-4c9b-b9e7-ed0cb0734c01",
   "metadata": {
    "tags": []
   },
   "outputs": [],
   "source": [
    "def normalizeEdgeColor(J):\n",
    "    return (J-J.min())/(J.max()-J.min()+1e-6)"
   ]
  },
  {
   "cell_type": "code",
   "execution_count": 38,
   "id": "72019c7a-9766-4cde-8921-62a42122c0f5",
   "metadata": {
    "tags": []
   },
   "outputs": [],
   "source": [
    "J0norm=normalizeEdgeColor(J0)\n",
    "\n",
    "G0 = nx.Graph(\n",
    "    {i: {j: {\"weight\": J0norm[i,j]} for j in range(N)} for i in range(N)}\n",
    ")\n",
    "nx.set_node_attributes(G0, {i:{'activity':S0[i]} for i in range(N)})"
   ]
  },
  {
   "cell_type": "code",
   "execution_count": 39,
   "id": "3d983c87-8a4c-480c-a1db-b0119c5b9f3e",
   "metadata": {
    "tags": []
   },
   "outputs": [
    {
     "data": {
      "text/plain": [
       "EdgeDataView([(0, 0, 0.8179544725869231), (0, 1, 0.5523411395729274), (0, 2, 0.10659687094087389), (0, 3, 0.41158330160002493), (0, 4, 0.8926745334972543), (1, 1, 0.4886650408267915), (1, 2, 0.0), (1, 3, 0.49985440173806367), (1, 4, 0.43209777148538947), (2, 2, 0.39487642348232993), (2, 3, 0.18619780299560426), (2, 4, 0.2718615280325885), (3, 3, 0.39573183840856074), (3, 4, 0.9999996331673905), (4, 4, 0.6423122081577417)])"
      ]
     },
     "execution_count": 39,
     "metadata": {},
     "output_type": "execute_result"
    }
   ],
   "source": [
    "G0.edges.data('weight')"
   ]
  },
  {
   "cell_type": "code",
   "execution_count": 40,
   "id": "fd1aed21-212a-471e-91b4-e92abd0791bb",
   "metadata": {},
   "outputs": [],
   "source": [
    "Jnorm=normalizeEdgeColor(x.couplings)\n",
    "\n",
    "G = nx.Graph(\n",
    "    {i: {j: {\"weight\": Jnorm[i,j]} for j in range(N)} for i in range(N)}\n",
    ")\n",
    "nx.set_node_attributes(G, {i:{'activity':x.nodes[i]} for i in range(N)})"
   ]
  },
  {
   "cell_type": "code",
   "execution_count": 41,
   "id": "d7c451a3-8de9-43c2-b79a-8203eeaf221e",
   "metadata": {
    "tags": []
   },
   "outputs": [
    {
     "data": {
      "text/plain": [
       "NodeDataView({0: -1.0, 1: -1.0, 2: 1.0, 3: -1.0, 4: -1.0}, data='activity')"
      ]
     },
     "execution_count": 41,
     "metadata": {},
     "output_type": "execute_result"
    }
   ],
   "source": [
    "G.nodes.data('activity')"
   ]
  },
  {
   "cell_type": "code",
   "execution_count": 42,
   "id": "59636b2c-bdac-4fcf-a4cc-db662ba5e86a",
   "metadata": {
    "tags": []
   },
   "outputs": [
    {
     "data": {
      "text/plain": [
       "EdgeDataView([(0, 0, 0.8179544725869231), (0, 1, 0.5523411395729274), (0, 2, 0.10659687094087389), (0, 3, 0.41158330160002493), (0, 4, 0.8926745334972543), (1, 1, 0.4886650408267915), (1, 2, 0.0), (1, 3, 0.49985440173806367), (1, 4, 0.43209777148538947), (2, 2, 0.39487642348232993), (2, 3, 0.18619780299560426), (2, 4, 0.2718615280325885), (3, 3, 0.39573183840856074), (3, 4, 0.9999996331673905), (4, 4, 0.6423122081577417)])"
      ]
     },
     "execution_count": 42,
     "metadata": {},
     "output_type": "execute_result"
    }
   ],
   "source": [
    "G.edges.data('weight')"
   ]
  },
  {
   "cell_type": "code",
   "execution_count": 43,
   "id": "385847f1-3ec5-4ce7-843e-1f2da8a14d64",
   "metadata": {
    "tags": []
   },
   "outputs": [
    {
     "data": {
      "text/plain": [
       "NodeDataView({0: -1.0, 1: -1.0, 2: 1.0, 3: -1.0, 4: 1.0}, data='activity')"
      ]
     },
     "execution_count": 43,
     "metadata": {},
     "output_type": "execute_result"
    }
   ],
   "source": [
    "G0.nodes.data('activity')"
   ]
  },
  {
   "cell_type": "code",
   "execution_count": 49,
   "id": "f5c76dca-44b8-4999-a852-7a7d230261d2",
   "metadata": {
    "tags": []
   },
   "outputs": [
    {
     "data": {
      "image/png": "[encoded data removed]",
      "text/plain": [
       "<Figure size 640x480 with 2 Axes>"
      ]
     },
     "metadata": {},
     "output_type": "display_data"
    }
   ],
   "source": [
    "%matplotlib inline\n",
    "\n",
    "colorMap='cool'\n",
    "\n",
    "subax1 = plt.subplot(231)\n",
    "nx.draw_networkx(\n",
    "    G0, \n",
    "    pos=nx.circular_layout(G0), \n",
    "    node_color=[v for u,v in G0.nodes.data('activity')],\n",
    "    cmap=colorMap, \n",
    "    vmin=-1,vmax=1,\n",
    "    #edgelist=G0.edges,\n",
    "    width=2,\n",
    "    edge_color=[w for u,v,w in G0.edges.data('weight')],\n",
    "    #edge_color=G0.edges.data('weight'),\n",
    "    edge_vmin=0,edge_vmax=1,\n",
    "    #edge_cmap='viridis',\n",
    "    with_labels=True\n",
    ")\n",
    "\n",
    "subax2 = plt.subplot(232)\n",
    "nx.draw_networkx(\n",
    "    G, \n",
    "    pos=nx.circular_layout(G),\n",
    "    node_color=[v for u,v in G.nodes.data('activity')],\n",
    "    cmap=colorMap,\n",
    "    vmin=-1,vmax=1, \n",
    "    #edgelist=G.edges,\n",
    "    width=2,\n",
    "    edge_color=[w for u,v,w in G.edges.data('weight')],\n",
    "    edge_vmin=0,edge_vmax=1,\n",
    "    #edge_cmap='viridis',\n",
    "    with_labels=True)\n",
    "\n",
    "plt.show()"
   ]
  },
  {
   "cell_type": "markdown",
   "id": "d60eb070-fcbe-40d7-8084-8264d0758c64",
   "metadata": {},
   "source": [
    "## Perceptrón\n",
    "\n",
    "Un tipo especial de red neuronal es la _feed-forward_: las neuronas pueden arreglarse en capas $l=1,\\dots,L$ de tal modo que una neurona en la capa:\n",
    "\n",
    "1. $l=1$ (_capa de entrada_): sólo _alimenta_ a las neuronas de la capa $l+1$;\n",
    "2. $l\\in \\{2,\\dots,L-1\\}$ (_capas ocultas_): sólo _alimenta_ a las neuronas de la capa $l+1$, y recibe la entrada de las neuronas de la capa $l-1$;\n",
    "3. $l=L$ (_capa de salida_): sólo recibe la entrada de las neuronas de la capa $l-1$.\n",
    "\n",
    "El perceptrón es una red neuronal _feed-forward_ con $L=2$ (es decir: sin capas ocultas):\n",
    "\n",
    "$$\\sigma=\\mathrm{sign}\\left(\\sum_{i} J_i S_i\\right)$$\n",
    "\n",
    "### Clasificación de números\n",
    "\n",
    "Si $\\mathbf{S}=\\left(S_1,\\dots,S_{2N}\\right)$ representa un par de números enteros de $N$ bits:\n",
    "\n",
    "- $(S_1,\\dots,S_N)\\sim n_1=\\sum_{i=1}^N 2^{N-i} \\left(\\frac{S_{i}+1}{2}\\right)$;\n",
    "- $(S_{N+1},\\dots,S_{2N})\\sim n_2=\\sum_{i=1}^N 2^{N-i}  \\left(\\frac{S_{N+i}+1}{2}\\right)$;\n",
    "\n",
    "entonces los acoplamientos $\\mathbf{J}^*=(J_1^*,\\dots,J_N^*)$ dados por:\n",
    "\n",
    "- $ J_i^*=2^{N-1}$ para $i=1,\\dots,N$;\n",
    "- $J_i^*=-J_{i-N}^*$ para $i=N+1,\\dots,2N$;\n",
    "\n",
    "son tales que:\n",
    "\n",
    "- $\\sigma=-1$ si $n_1<n_2$\n",
    "- $\\sigma=+1$ si $n_1>n_2$\n",
    "\n",
    "Sin embargo, puede definirse una dinámica $\\mathbf{J}(t+1)=f(\\mathbf{J}(t))$ tal que, mediante _ejemplos_, haga que un estado aleatorio inicial $\\mathbf{J}(0)$ converja a $\\mathbf{J}^*$.\n",
    "\n",
    "### Esquema de aprendizaje del clasificador de números\n",
    "\n",
    "1. Un conjunto de $p$ vectores de entrada $\\{\\mathbf{\\xi}^{\\mu}\\}_{\\mu=1}^p$. Para cada $\\mathbf{\\xi}^{\\mu}$, _se sabe de antemano la salida correcta_ $\\sigma_T^{\\mu}$. A la colección $\\{(\\mathbf{\\xi}^{\\mu},\\sigma_T^{\\mu})\\}_{\\mu=1}^p$ se le llama _conjunto de entrenamiento_ o _de ejemplos_.\n",
    "> **Notas**: \n",
    "> - El subíndice $T$ viene de _target_.\n",
    "> - Las entradas y salidas $\\{(\\mathbf{\\xi}^{\\mu},\\sigma_T^{\\mu})\\}_{\\mu=1}^p$ se asocian, por conveniencia, a una red _feed-forward_ objetivo con acoplamientos $\\mathbf{T}$. En este caso, $\\mathbf{T}$ proviende de _target_ y _teacher_. La arquitectura de $\\mathbf{T}$ no es necesariamente la misma que la de $\\mathbf{J}$, salvo en el número de entradas y salidas.\n",
    "2. La _regla de aprendizaje_ que adapta $\\mathbf{J}$ (incluyendo posiblemente elementos aleatorios) a los ejemplos $\\{(\\mathbf{\\xi}^{\\mu},\\sigma_T^{\\mu})\\}_{\\mu=1}^p$.\n",
    "3. El _error de entrenamiento_:\n",
    "$$\\varepsilon_t\\left(\\mathbf{J};\\{\\mathbf{\\xi}^{\\mu}\\},\\mathbf{T}\\right)=\\frac{1}{p}\\sum_{\\mu=1}^p\\mathrm{d}\\left(\\mathbf{J};\\mathbf{\\xi}^{\\mu},\\mathbf{T}\\right)$$\n",
    "donde $\\mathrm{d}\\left(\\mathbf{J};\\mathbf{S},\\mathbf{T}\\right)$ mide la disimilaridad (distancia) entre las salidas de $\\mathbf{S}$ bajo $\\mathbf{J}$ y $\\mathbf{T}$.\n",
    "> **Notas**:\n",
    "> 1. Algunas distancias $\\mathrm{d}\\left(\\mathbf{J};\\mathbf{S},\\mathbf{T}\\right)$ son:\n",
    ">   - $\\mathrm{d}\\left(\\mathbf{J};\\mathbf{S},\\mathbf{T}\\right)=\\theta(-\\sigma_t \\sigma)$\n",
    ">   - $\\mathrm{d}\\left(\\mathbf{J};\\mathbf{S},\\mathbf{T}\\right)=(\\sigma_T-\\sigma)^2/4$\n",
    "> 2. Para determinar _qué tan bien se aproxima $\\mathbf{J}$ a $\\mathbf{T}$_, se define el _error de aproximación_ mediante el valor esperado de $\\mathrm{d}\\left(\\mathbf{J};\\mathbf{S},\\mathbf{T}\\right)$:\n",
    "> $$\\varepsilon\\left(\\mathbf{J};\\mathbf{T}\\right)=\\sum_{\\mathbf{S}\\in\\{-1,1\\}^N} P(\\mathbf{S}) \\mathrm{d}\\left(\\mathbf{J};\\mathbf{S},\\mathbf{T}\\right)$$\n",
    "donde $P(\\mathbf{S})$ es una distribución de ejemplos (entradas) de entrenamiento. Esto implica que el error de entrenamiento $\\varepsilon_t$ es un estimador del error de generalización $\\varepsilon$.\n",
    "> 3. En física estadística se considera principalmente el escenario especial de una red neuronal de profesor y una red neuronal alumno, y su objetivo es producir resultados exactos para el comportamiento típico (límite termodinámico; mediana=media; varianza nula: auto promediación) de aprendizaje, en el que tanto el número de acoplamientos de la red del alumno $N$ y el número de ejemplos del conjunto de entrenamiento $p$ divergen, manteniendo una razón constante $\\alpha$: $p=\\alpha N$."
   ]
  },
  {
   "cell_type": "code",
   "execution_count": 201,
   "id": "21a748f6-59e1-4aa1-b0bd-fb0355894665",
   "metadata": {
    "tags": []
   },
   "outputs": [],
   "source": [
    "def binaryForm(n,n_bits):\n",
    "    assert type(n) in {int,np.int_} and n<2**n_bits\n",
    "    s=np.base_repr(n,2)\n",
    "    if n>=2**(n_bits-1):\n",
    "        t=list(s)\n",
    "    else:\n",
    "        t=list('0'*(n_bits-len(s))+s)\n",
    "    return np.array([2*int(i)-1 for i in list(t)])\n",
    "\n",
    "def naturalForm(x):\n",
    "    assert type(x)==np.ndarray\n",
    "    n=len(x)\n",
    "    return int(sum([(x[i]+1)*2**(n-i-2) for i in range(n)]))\n",
    "\n",
    "def trueFalseBin(x):\n",
    "    assert all([type(q)==np.bool_ for q in x])\n",
    "    return np.array([1 if q else -1 for q in x])"
   ]
  },
  {
   "cell_type": "code",
   "execution_count": 133,
   "id": "90d44d47-e78e-4ae9-bcc1-38f985ac10f9",
   "metadata": {
    "tags": []
   },
   "outputs": [
    {
     "data": {
      "text/plain": [
       "array([ 1,  1, -1,  1])"
      ]
     },
     "execution_count": 133,
     "metadata": {},
     "output_type": "execute_result"
    }
   ],
   "source": [
    "binaryForm(13,4)"
   ]
  },
  {
   "cell_type": "code",
   "execution_count": 134,
   "id": "7596b231-0463-4e86-af02-a99f9fc99cc6",
   "metadata": {
    "tags": []
   },
   "outputs": [
    {
     "data": {
      "text/plain": [
       "array([-1,  1,  1, -1,  1])"
      ]
     },
     "execution_count": 134,
     "metadata": {},
     "output_type": "execute_result"
    }
   ],
   "source": [
    "binaryForm(13,5)"
   ]
  },
  {
   "cell_type": "code",
   "execution_count": 136,
   "id": "c8fbed36-514e-4f78-bf79-50605377a936",
   "metadata": {
    "tags": []
   },
   "outputs": [
    {
     "data": {
      "text/plain": [
       "13"
      ]
     },
     "execution_count": 136,
     "metadata": {},
     "output_type": "execute_result"
    }
   ],
   "source": [
    "naturalForm(np.array([-1,-1,1,1,-1,1]))"
   ]
  },
  {
   "cell_type": "markdown",
   "id": "11ca3bfa-581a-4c18-80d7-03ab0dcf9f86",
   "metadata": {},
   "source": [
    "La cantidad de posibles entradas $\\mathbf{S}\\in\\{-1,1\\}^{2N}$ es $2^{2N}\\approx10^{3N/5}$.\n",
    "\n",
    "> **Ejemplo**: las posibles comparaciones entre dos números de $N=10$ bits son $1048576\\approx 10^6$.\n",
    "\n",
    "Definir el conjunto de entrenamiento:"
   ]
  },
  {
   "cell_type": "code",
   "execution_count": 140,
   "id": "2f492a6f-139d-41d8-8d2a-f046cfa518e6",
   "metadata": {
    "tags": []
   },
   "outputs": [],
   "source": [
    "p=1000 #número de ejemplos\n",
    "Nbits=10 #cantidad de bits en los números por comparar\n",
    "rng = np.random.default_rng()"
   ]
  },
  {
   "cell_type": "markdown",
   "id": "f933ceb4-99a9-4376-9cf1-4efe6bcf124e",
   "metadata": {},
   "source": [
    "Los dos primeros pares de números son:"
   ]
  },
  {
   "cell_type": "code",
   "execution_count": 168,
   "id": "02e394f8-551f-4422-84a1-d63b5ee7903f",
   "metadata": {
    "tags": []
   },
   "outputs": [
    {
     "data": {
      "text/plain": [
       "array([[282, 842],\n",
       "       [707, 167]])"
      ]
     },
     "execution_count": 168,
     "metadata": {},
     "output_type": "execute_result"
    }
   ],
   "source": [
    "Xi=rng.integers(2**Nbits, size=(p,2))\n",
    "Xi[0:2]"
   ]
  },
  {
   "cell_type": "markdown",
   "id": "cdb85a69-971b-4144-8a68-bed28b3de492",
   "metadata": {},
   "source": [
    "Y la comparación entre ellos es:"
   ]
  },
  {
   "cell_type": "code",
   "execution_count": 169,
   "id": "016224f8-c56a-4032-b13f-b110026c250a",
   "metadata": {
    "tags": []
   },
   "outputs": [
    {
     "data": {
      "text/plain": [
       "array([ True, False])"
      ]
     },
     "execution_count": 169,
     "metadata": {},
     "output_type": "execute_result"
    }
   ],
   "source": [
    "sigma_T=np.array([xi[0] < xi[1] for xi in Xi])\n",
    "sigma_T[0:2]"
   ]
  },
  {
   "cell_type": "markdown",
   "id": "38d0625a-cc24-44d9-a2f9-99f8eb9910f9",
   "metadata": {
    "tags": []
   },
   "source": [
    "Juntamos ambos arreglos en forma canónica:"
   ]
  },
  {
   "cell_type": "code",
   "execution_count": 208,
   "id": "6e687d71-742c-4c2c-b7fd-77eaca11b048",
   "metadata": {
    "tags": []
   },
   "outputs": [],
   "source": [
    "trainingSet=[\n",
    "    (np.concatenate(tuple(binaryForm(x0,Nbits) for x0 in x)),y) for x,y in zip(Xi,trueFalseBin(sigma_T))\n",
    "]"
   ]
  },
  {
   "cell_type": "markdown",
   "id": "87882092-af95-4d8c-97c0-f486871f423e",
   "metadata": {},
   "source": [
    "El primer ejemplo $(\\mathbf{\\xi}^1,\\sigma^1_T)$ es:"
   ]
  },
  {
   "cell_type": "code",
   "execution_count": 220,
   "id": "f79c9317-31e0-4b51-96e0-1d8a7a622596",
   "metadata": {
    "tags": []
   },
   "outputs": [
    {
     "name": "stdout",
     "output_type": "stream",
     "text": [
      "Xi[0]=[-1  1 -1 -1 -1  1  1 -1  1 -1  1  1 -1  1 -1 -1  1 -1  1 -1],\n",
      " sigma_T[0]=1\n"
     ]
    }
   ],
   "source": [
    "print('Xi[0]={},\\n sigma_T[0]={}'.format(*trainingSet[0]))"
   ]
  },
  {
   "cell_type": "markdown",
   "id": "371aa91c-81fd-4951-bd35-d5d2001f53a8",
   "metadata": {},
   "source": [
    "## Referencias \n",
    "\n",
    "- P. Peretto. **An introduction to the modeling of neural networks**.\n",
    "   - Capítulo 3.\n",
    "- A. Engel; C. Van den Browck. **Statistical mechanics of learning**.\n",
    "   - Capítulos 1 y 2.\n",
    "- D. J. MacKay. **Information theory, inference, and learning algorithms**.\n",
    "   - Capítulo 5, secciones 38 a 40."
   ]
  },
  {
   "cell_type": "code",
   "execution_count": null,
   "id": "37bef859-9909-412c-93c1-0fd1b0ba2261",
   "metadata": {},
   "outputs": [],
   "source": []
  }
 ],
 "metadata": {
  "kernelspec": {
   "display_name": "Python 3 (ipykernel)",
   "language": "python",
   "name": "python3"
  },
  "language_info": {
   "codemirror_mode": {
    "name": "ipython",
    "version": 3
   },
   "file_extension": ".py",
   "mimetype": "text/x-python",
   "name": "python",
   "nbconvert_exporter": "python",
   "pygments_lexer": "ipython3",
   "version": "3.10.9"
  },
  "widgets": {
   "application/vnd.jupyter.widget-state+json": {
    "state": {
     "487f55d4c1bf4488b4b79d5b455fd719": {
      "model_module": "@jupyter-widgets/base",
      "model_module_version": "2.0.0",
      "model_name": "LayoutModel",
      "state": {}
     },
     "505e295334c84d1c97df1273c9787e4b": {
      "model_module": "jupyter-matplotlib",
      "model_module_version": "^0.11",
      "model_name": "ToolbarModel",
      "state": {
       "_model_module_version": "^0.11",
       "_view_module_version": "^0.11",
       "collapsed": true,
       "layout": "IPY_MODEL_487f55d4c1bf4488b4b79d5b455fd719",
       "orientation": "vertical",
       "toolitems": [
        [
         "Home",
         "Reset original view",
         "home",
         "home"
        ],
        [
         "Back",
         "Back to previous view",
         "arrow-left",
         "back"
        ],
        [
         "Forward",
         "Forward to next view",
         "arrow-right",
         "forward"
        ],
        [
         "Pan",
         "Left button pans, Right button zooms\nx/y fixes axis, CTRL fixes aspect",
         "arrows",
         "pan"
        ],
        [
         "Zoom",
         "Zoom to rectangle\nx/y fixes axis",
         "square-o",
         "zoom"
        ],
        [
         "Download",
         "Download plot",
         "floppy-o",
         "save_figure"
        ]
       ]
      }
     },
     "62f5afce2bb9468da6eb68e4742ae7d6": {
      "model_module": "@jupyter-widgets/base",
      "model_module_version": "2.0.0",
      "model_name": "LayoutModel",
      "state": {}
     },
     "6bd43ac2332d405789bf2fd720714466": {
      "model_module": "@jupyter-widgets/base",
      "model_module_version": "2.0.0",
      "model_name": "LayoutModel",
      "state": {}
     },
     "be662da781474dd3b38396360c40fb3e": {
      "model_module": "@jupyter-widgets/base",
      "model_module_version": "2.0.0",
      "model_name": "LayoutModel",
      "state": {}
     },
     "e621b83a10b94fec9bdb5685286522a6": {
      "model_module": "jupyter-matplotlib",
      "model_module_version": "^0.11",
      "model_name": "ToolbarModel",
      "state": {
       "_model_module_version": "^0.11",
       "_view_module_version": "^0.11",
       "collapsed": true,
       "layout": "IPY_MODEL_6bd43ac2332d405789bf2fd720714466",
       "orientation": "vertical",
       "toolitems": [
        [
         "Home",
         "Reset original view",
         "home",
         "home"
        ],
        [
         "Back",
         "Back to previous view",
         "arrow-left",
         "back"
        ],
        [
         "Forward",
         "Forward to next view",
         "arrow-right",
         "forward"
        ],
        [
         "Pan",
         "Left button pans, Right button zooms\nx/y fixes axis, CTRL fixes aspect",
         "arrows",
         "pan"
        ],
        [
         "Zoom",
         "Zoom to rectangle\nx/y fixes axis",
         "square-o",
         "zoom"
        ],
        [
         "Download",
         "Download plot",
         "floppy-o",
         "save_figure"
        ]
       ]
      }
     }
    },
    "version_major": 2,
    "version_minor": 0
   }
  }
 },
 "nbformat": 4,
 "nbformat_minor": 5
}
